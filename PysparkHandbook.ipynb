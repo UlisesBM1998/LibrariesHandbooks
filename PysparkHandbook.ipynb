{
 "cells": [
  {
   "cell_type": "code",
   "execution_count": null,
   "id": "57807715",
   "metadata": {},
   "outputs": [],
   "source": [
    "from pyspark.sql import SparkSession"
   ]
  },
  {
   "cell_type": "code",
   "execution_count": null,
   "id": "d92d98f0",
   "metadata": {},
   "outputs": [],
   "source": [
    "data = spark.read.csv(\"dataset.csv\", header = True, sep = \";\", inferSchema = True)"
   ]
  },
  {
   "cell_type": "code",
   "execution_count": null,
   "id": "d6dbab37",
   "metadata": {},
   "outputs": [],
   "source": [
    "data.schema"
   ]
  },
  {
   "cell_type": "code",
   "execution_count": null,
   "id": "f9c23196",
   "metadata": {},
   "outputs": [],
   "source": [
    "data.count()"
   ]
  },
  {
   "cell_type": "code",
   "execution_count": null,
   "id": "48e2788c",
   "metadata": {},
   "outputs": [],
   "source": [
    "data.columns"
   ]
  },
  {
   "cell_type": "code",
   "execution_count": null,
   "id": "b4ccbfc2",
   "metadata": {},
   "outputs": [],
   "source": [
    "data.select(\"price\", \"status\").show(5)"
   ]
  },
  {
   "cell_type": "code",
   "execution_count": null,
   "id": "0a422129",
   "metadata": {},
   "outputs": [],
   "source": [
    "from pyspark.sql import functions as Func"
   ]
  },
  {
   "cell_type": "code",
   "execution_count": null,
   "id": "1c6c29db",
   "metadata": {},
   "outputs": [],
   "source": [
    "data.select(\"price\", \"status\").where(Func.col(\"price\")>1200).show()"
   ]
  },
  {
   "cell_type": "code",
   "execution_count": null,
   "id": "09c23791",
   "metadata": {},
   "outputs": [],
   "source": [
    "data.orderBy(\"model\").show(5)"
   ]
  },
  {
   "cell_type": "code",
   "execution_count": null,
   "id": "8156a8fe",
   "metadata": {},
   "outputs": [],
   "source": [
    "data.orderBy(Func.col(\"model\").desc()).show(5)"
   ]
  },
  {
   "cell_type": "code",
   "execution_count": null,
   "id": "58f80a71",
   "metadata": {},
   "outputs": [],
   "source": [
    "from pyspark.ml.regression import LinearRegression, RandomForestRegressor\n",
    "from pypark.ml.evaluaton import RegressionEvaluator\n",
    "from pypark.ml.feature import VectorAssembler"
   ]
  },
  {
   "cell_type": "code",
   "execution_count": null,
   "id": "2818ea22",
   "metadata": {},
   "outputs": [],
   "source": [
    "cancer_data = spark.read.csv(\"cancer_results.csv\", inferSchema = True, header = True, sep = \";\")\n",
    "cancer_data.show(10)"
   ]
  },
  {
   "cell_type": "code",
   "execution_count": null,
   "id": "161811c6",
   "metadata": {},
   "outputs": [],
   "source": [
    "cancer_data_variables = cancer_data.select(\"size\", \"status\", \"result\")\n",
    "cancer_data_variables.show(10)"
   ]
  },
  {
   "cell_type": "code",
   "execution_count": null,
   "id": "3139fdce",
   "metadata": {},
   "outputs": [],
   "source": [
    "cancer_data_variables_vec = VectorAssembler(inputCols = [(\"size\"), (\"status\")], outputCol=\"final_output\")"
   ]
  },
  {
   "cell_type": "code",
   "execution_count": null,
   "id": "74553e27",
   "metadata": {},
   "outputs": [],
   "source": [
    "cancer_data_variables = cancer_data_variables_vec.transform(cancer_data_variables)\n",
    "cancer_data_variables.show(5)"
   ]
  },
  {
   "cell_type": "code",
   "execution_count": null,
   "id": "da618dd1",
   "metadata": {},
   "outputs": [],
   "source": [
    "cancer_data_train, cancer_data_test = cancer_data_variables.randomSplit([0.7,0.3])\n",
    "print(cancer_data_train.count())\n",
    "print(cancer_data_test.count())"
   ]
  },
  {
   "cell_type": "code",
   "execution_count": null,
   "id": "e370fad6",
   "metadata": {},
   "outputs": [],
   "source": [
    "reglin = LinerRegression(featuresCol = \"final_output\", labelCol = \"result\")\n",
    "model = reglin.fit(cancer_data_train)"
   ]
  },
  {
   "cell_type": "code",
   "execution_count": null,
   "id": "5d5c698c",
   "metadata": {},
   "outputs": [],
   "source": [
    "prev = model.transform(cancer_data_test)\n",
    "prev.show(5)"
   ]
  },
  {
   "cell_type": "code",
   "execution_count": null,
   "id": "8ed49f92",
   "metadata": {},
   "outputs": [],
   "source": [
    "model_results = RegressionEvaluator(predictionCol = \"prediction\", labelCol 0 \"result\", metricName = \"rmse\")\n",
    "rmse = model_results.evaluate(prev)\n",
    "print(rmse)"
   ]
  }
 ],
 "metadata": {
  "kernelspec": {
   "display_name": "Python 3 (ipykernel)",
   "language": "python",
   "name": "python3"
  },
  "language_info": {
   "codemirror_mode": {
    "name": "ipython",
    "version": 3
   },
   "file_extension": ".py",
   "mimetype": "text/x-python",
   "name": "python",
   "nbconvert_exporter": "python",
   "pygments_lexer": "ipython3",
   "version": "3.9.7"
  }
 },
 "nbformat": 4,
 "nbformat_minor": 5
}
