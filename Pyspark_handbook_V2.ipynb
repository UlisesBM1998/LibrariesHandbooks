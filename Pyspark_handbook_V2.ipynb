{
 "cells": [
  {
   "cell_type": "code",
   "execution_count": null,
   "id": "4fbd0d3f",
   "metadata": {},
   "outputs": [],
   "source": [
    "from pyspark import SparkContext"
   ]
  },
  {
   "cell_type": "code",
   "execution_count": null,
   "id": "774f514e",
   "metadata": {},
   "outputs": [],
   "source": [
    "sc = SparkContext()"
   ]
  },
  {
   "cell_type": "code",
   "execution_count": null,
   "id": "2191569c",
   "metadata": {},
   "outputs": [],
   "source": [
    "sc.textfile(\"example.txt\")"
   ]
  },
  {
   "cell_type": "code",
   "execution_count": null,
   "id": "cece7043",
   "metadata": {},
   "outputs": [],
   "source": [
    "text_rdd = sc.textFile(\"example.txt\")"
   ]
  },
  {
   "cell_type": "code",
   "execution_count": null,
   "id": "322e2a18",
   "metadata": {},
   "outputs": [],
   "source": [
    "words = text_rdd.map(lambda line : line.split())"
   ]
  },
  {
   "cell_type": "code",
   "execution_count": null,
   "id": "f80afa2e",
   "metadata": {},
   "outputs": [],
   "source": [
    "words.collect()"
   ]
  },
  {
   "cell_type": "code",
   "execution_count": null,
   "id": "29e6b2cb",
   "metadata": {},
   "outputs": [],
   "source": [
    "text_rdd.collect()"
   ]
  },
  {
   "cell_type": "code",
   "execution_count": null,
   "id": "0cec5e43",
   "metadata": {},
   "outputs": [],
   "source": [
    "text_rdd.flatMap(lambda line: line.split()).collect()"
   ]
  },
  {
   "cell_type": "code",
   "execution_count": null,
   "id": "aebddeb9",
   "metadata": {},
   "outputs": [],
   "source": [
    "services = sc.textFile(\"services.txt\")"
   ]
  },
  {
   "cell_type": "code",
   "execution_count": null,
   "id": "5205dc3a",
   "metadata": {},
   "outputs": [],
   "source": [
    "services.take(2)"
   ]
  },
  {
   "cell_type": "code",
   "execution_count": null,
   "id": "4b6c2443",
   "metadata": {},
   "outputs": [],
   "source": [
    "services.map(lambda line: line.split())"
   ]
  },
  {
   "cell_type": "code",
   "execution_count": null,
   "id": "279816b5",
   "metadata": {},
   "outputs": [],
   "source": [
    "clean = services.map(lambda line: line[1:] if line[0] == \"#\" else line).collect()"
   ]
  },
  {
   "cell_type": "code",
   "execution_count": null,
   "id": "5d02a709",
   "metadata": {},
   "outputs": [],
   "source": [
    "clean = clean.map(lambda line:line.split())"
   ]
  },
  {
   "cell_type": "code",
   "execution_count": null,
   "id": "e2060495",
   "metadata": {},
   "outputs": [],
   "source": [
    "clean.collect()"
   ]
  },
  {
   "cell_type": "code",
   "execution_count": null,
   "id": "95e418e5",
   "metadata": {},
   "outputs": [],
   "source": [
    "pairs = clean.map(lambda line: (line[3], line[-1]))"
   ]
  },
  {
   "cell_type": "code",
   "execution_count": null,
   "id": "44d95416",
   "metadata": {},
   "outputs": [],
   "source": [
    "rekey = pairs.reduceByKey(lambda amt1, amt2 : float(amt1) + float(amt2))"
   ]
  },
  {
   "cell_type": "code",
   "execution_count": null,
   "id": "f9fa914b",
   "metadata": {},
   "outputs": [],
   "source": [
    "rekey.collect()"
   ]
  },
  {
   "cell_type": "code",
   "execution_count": null,
   "id": "934f79dd",
   "metadata": {},
   "outputs": [],
   "source": [
    "step1 = clean.map(lambda lst : (lst[3], lst[-1]))\n",
    "step2 = step1.reduceByKey(lambda amt1, amt2 : float(amt1) + float(amt2))\n",
    "step3 = step2.filter(lambda x: not x[0] == \"State\")\n",
    "step4 = step3.sortBy(lambda stAmount: stAmount[1], ascending = False)\n",
    "step4.collect()"
   ]
  },
  {
   "cell_type": "code",
   "execution_count": null,
   "id": "f203978b",
   "metadata": {},
   "outputs": [],
   "source": [
    "x = [\"ID\", \"State\", \"Amount\"]"
   ]
  },
  {
   "cell_type": "code",
   "execution_count": null,
   "id": "be8ad940",
   "metadata": {},
   "outputs": [],
   "source": [
    "def func1(lst):\n",
    "    return lst[-1]"
   ]
  },
  {
   "cell_type": "code",
   "execution_count": null,
   "id": "f312e0f9",
   "metadata": {},
   "outputs": [],
   "source": [
    "def func2(id_st_amt):\n",
    "    (id, st, amt) = id_st_amt\n",
    "    returb amt\n",
    "    "
   ]
  }
 ],
 "metadata": {
  "kernelspec": {
   "display_name": "Python 3 (ipykernel)",
   "language": "python",
   "name": "python3"
  },
  "language_info": {
   "codemirror_mode": {
    "name": "ipython",
    "version": 3
   },
   "file_extension": ".py",
   "mimetype": "text/x-python",
   "name": "python",
   "nbconvert_exporter": "python",
   "pygments_lexer": "ipython3",
   "version": "3.9.7"
  }
 },
 "nbformat": 4,
 "nbformat_minor": 5
}
